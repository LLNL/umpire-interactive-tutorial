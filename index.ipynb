{
 "cells": [
  {
   "cell_type": "code",
   "execution_count": null,
   "metadata": {},
   "outputs": [],
   "source": [
    "#pragma cling add_include_path(\"include\")\n",
    "#pragma cling add_library_path(\"lib\")\n",
    "#pragma cling load(\"libumpire\")"
   ]
  },
  {
   "cell_type": "markdown",
   "metadata": {},
   "source": [
    "# Umpire Basics\n",
    "\n",
    "Umpire's `ResourceManager` is the main object used to access all of the objects that Umpire provides. To get a reference to the manager, you can use the `getInstance` method:"
   ]
  },
  {
   "cell_type": "code",
   "execution_count": null,
   "metadata": {},
   "outputs": [],
   "source": [
    "#include \"umpire/ResourceManager.hpp\"\n",
    "\n",
    "auto& rm = umpire::ResourceManager::getInstance();"
   ]
  },
  {
   "cell_type": "markdown",
   "metadata": {},
   "source": [
    "The `ResourceManager` can be used to access `Allocator`s. An `Allocator` is an object that is used to allocate, deallocate, and introspect memory."
   ]
  },
  {
   "cell_type": "code",
   "execution_count": null,
   "metadata": {},
   "outputs": [],
   "source": [
    "auto alloc = rm.getAllocator(\"HOST\");"
   ]
  },
  {
   "cell_type": "markdown",
   "metadata": {},
   "source": [
    "In the previous cell, we grabbed the \"HOST\" `Allocator`. Depneding on how your system is configured, Umpire will create a number of predefined allocators for the available memory resources. The list of predefined Allocators is:\n",
    "\n",
    "- `\"HOST\"`: available on all systems, provides access to regular DDR memory.\n",
    "- `\"DEVICE\"`: available with CUDA or HIP, provides access to GPU memory.\n",
    "- `\"UM\"`: available with CUDA, provides \"unified\" memory accesibly on the host or GPU.\n",
    "- `\"PINNED\"`: avaible with CUDA or HIP, provides access to pinned DDR memory.\n",
    "\n",
    "_N.B.: since this tutorial is running with a CPU-only build, only the HOST resource is available._"
   ]
  },
  {
   "cell_type": "markdown",
   "metadata": {},
   "source": [
    "## Allocating Memory\n",
    "\n",
    "You can allocate and deallocate memory using the `allocate` and `deallocate` methods. Allocation sizes are in bytes, and return void pointers, which you can cast to the appropriate type:"
   ]
  },
  {
   "cell_type": "code",
   "execution_count": null,
   "metadata": {},
   "outputs": [],
   "source": [
    "double* data = static_cast<double*>(alloc.allocate(1024*sizeof(double)));\n",
    "\n",
    "std::cout << \"data allocated at: \" << data << std::endl;\n",
    "\n",
    "alloc.deallocate(data);"
   ]
  },
  {
   "cell_type": "markdown",
   "metadata": {},
   "source": [
    "### Typed Allocators\n",
    "\n",
    "`TypedAllocators` are available in Umpire's C++ API, and allow you to create an `Allocato`r for a specific data type:"
   ]
  },
  {
   "cell_type": "code",
   "execution_count": null,
   "metadata": {},
   "outputs": [],
   "source": [
    "#include \"umpire/TypedAllocator.hpp\"\n",
    "\n",
    "auto double_allocator = umpire::TypedAllocator<double>{alloc};\n",
    "\n",
    "data = double_allocator.allocate(10); // allocate 10 doubles\n",
    "\n",
    "std::cout << \"size of data is: \" << alloc.getSize(data) << std::endl;\n",
    "\n",
    "double_allocator.deallocate(data, 10);"
   ]
  },
  {
   "cell_type": "markdown",
   "metadata": {},
   "source": [
    "# Allocation Strategies\n",
    "\n",
    "Allocation strategies decouple how & where data is allocated, allowing you to build up complex mechanisms for allocating data. \n"
   ]
  },
  {
   "cell_type": "markdown",
   "metadata": {},
   "source": [
    "## Pool\n",
    "\n",
    "Let's start with a simple example and create a DynamicPool:"
   ]
  },
  {
   "cell_type": "code",
   "execution_count": null,
   "metadata": {},
   "outputs": [],
   "source": [
    "#include \"umpire/strategy/DynamicPool.hpp\"\n",
    "\n",
    "auto pool = rm.makeAllocator<umpire::strategy::DynamicPool, false>(\"pool\", alloc);\n",
    "\n",
    "data = static_cast<double*>(pool.allocate(1024));\n",
    "\n",
    "std::cout << \"data allocated at: \" << data << std::endl;\n",
    "\n",
    "pool.deallocate(data);\n",
    "\n",
    "data = static_cast<double*>(pool.allocate(4096));\n",
    "\n",
    "std::cout << \"data allocated (again) at: \" << data << std::endl;\n",
    "\n",
    "pool.deallocate(data);\n",
    "\n",
    "data = static_cast<double*>(pool.allocate(2048));"
   ]
  },
  {
   "cell_type": "markdown",
   "metadata": {},
   "source": [
    "You can query the current size of the pool (total size of all allocations), as well as the _actual_ size (how much memory the pool has allocated):"
   ]
  },
  {
   "cell_type": "code",
   "execution_count": null,
   "metadata": {},
   "outputs": [],
   "source": [
    "std::cout << pool.getCurrentSize() << std::endl;"
   ]
  },
  {
   "cell_type": "code",
   "execution_count": null,
   "metadata": {},
   "outputs": [],
   "source": [
    "std::cout << pool.getActualSize() << std::endl;"
   ]
  },
  {
   "cell_type": "markdown",
   "metadata": {},
   "source": [
    "The pool will hold on to memory even when there are no active allocations. This is what makes it fast:"
   ]
  },
  {
   "cell_type": "code",
   "execution_count": null,
   "metadata": {},
   "outputs": [],
   "source": [
    "pool.deallocate(data);\n",
    "std::cout << pool.getActualSize() << std::endl;\n",
    "std::cout << pool.getCurrentSize() << std::endl;"
   ]
  },
  {
   "cell_type": "markdown",
   "metadata": {},
   "source": [
    "To free all the memory the pool is holding on to, you can use the `release` method:"
   ]
  },
  {
   "cell_type": "code",
   "execution_count": null,
   "metadata": {},
   "outputs": [],
   "source": [
    "pool.release();\n",
    "std::cout << pool.getActualSize() << std::endl;\n",
    "std::cout << pool.getCurrentSize() << std::endl;"
   ]
  },
  {
   "cell_type": "markdown",
   "metadata": {},
   "source": [
    "## SizeLimiter\n",
    "\n",
    "Let's look at some other strategies, and how these can be combined. Umpire provides a `SizeLimiter` strategy that limits the total size of allocations. We can combine this with a pool to create a pooled allocator than can never be above a certain size:"
   ]
  },
  {
   "cell_type": "code",
   "execution_count": null,
   "metadata": {},
   "outputs": [],
   "source": [
    "#include \"umpire/strategy/SizeLimiter.hpp\"\n",
    "\n",
    "auto size_limiter =  rm.makeAllocator<umpire::strategy::SizeLimiter>(\"size_limiter\", alloc, 1024*1024);\n",
    "auto limited_pool = rm.makeAllocator<umpire::strategy::DynamicPool>(\"limited_pool\", size_limiter, 1024*1024, 1024);"
   ]
  },
  {
   "cell_type": "markdown",
   "metadata": {},
   "source": [
    "The pool will be created with 1Mb pre-allocated. Trying to allocate more than this will cause the allocations to fail:"
   ]
  },
  {
   "cell_type": "code",
   "execution_count": null,
   "metadata": {},
   "outputs": [],
   "source": [
    "data = static_cast<double*>(limited_pool.allocate(1024));\n",
    "\n",
    "try {\n",
    "    void* will_fail = limited_pool.allocate(1024*1024);\n",
    "} catch (...) {\n",
    "    std::cout << \"Uh oh\" << std::endl;\n",
    "}\n",
    "\n",
    "limited_pool.deallocate(data);\n",
    "limited_pool.release();"
   ]
  },
  {
   "cell_type": "markdown",
   "metadata": {},
   "source": [
    "# Sandbox\n",
    "\n",
    "In the cell below, try editing and playing around with Umpire. If you are in a tutorial session with us, please ask if you have any questions. If not, email umpire-dev@llnl.gov\n"
   ]
  },
  {
   "cell_type": "code",
   "execution_count": null,
   "metadata": {},
   "outputs": [],
   "source": [
    "// rm is the ResourceManager\n",
    "// alloc is the \"HOST\" allocator\n",
    "// pool is a DynamicPool\n",
    "// size_limiter is an allocator limited to 1MB total\n",
    "// limited_pool is a pool built on this allocator\n",
    "{\n",
    "    auto my_data = alloc.allocate();\n",
    "\n",
    "}"
   ]
  }
 ],
 "metadata": {
  "kernelspec": {
   "display_name": "C++14",
   "language": "C++14",
   "name": "xcpp14"
  },
  "language_info": {
   "codemirror_mode": "text/x-c++src",
   "file_extension": ".cpp",
   "mimetype": "text/x-c++src",
   "name": "c++",
   "version": "-std=c++14"
  }
 },
 "nbformat": 4,
 "nbformat_minor": 2
}
